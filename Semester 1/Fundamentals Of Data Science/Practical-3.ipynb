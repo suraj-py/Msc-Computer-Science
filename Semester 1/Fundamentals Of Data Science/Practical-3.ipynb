{
 "cells": [
  {
   "cell_type": "markdown",
   "id": "9246922b",
   "metadata": {},
   "source": [
    "# Practical -3"
   ]
  },
  {
   "cell_type": "markdown",
   "id": "500dd3c9",
   "metadata": {},
   "source": [
    "# 1. Probability"
   ]
  },
  {
   "cell_type": "code",
   "execution_count": 1,
   "id": "5c3ce86b",
   "metadata": {},
   "outputs": [
    {
     "name": "stdout",
     "output_type": "stream",
     "text": [
      "The probability of getting 3 on a single roll of a six sided die is 0.16666666666666666 or 16.7%\n"
     ]
    }
   ],
   "source": [
    "'''Q.1 What is the probability of getting 3 when a fair, six-sided die is rolled?'''\n",
    "\n",
    "# Let,\n",
    "# A : Getting 3 when a fair, six-sided die is rolled\n",
    "# S : Sample space generated when a fair, six-sided die is rolled\n",
    "\n",
    "A = {3}\n",
    "S = {1, 2, 3, 4, 5, 6}\n",
    "\n",
    "# Probability of event A (represented here as P_A) is given by:\n",
    "# P(A) = No. of elements in set A / No. of elements in set S\n",
    "# i.e.\n",
    "# P(A) = n(A) / n(S)\n",
    "\n",
    "P_A = len(A) / len(S)\n",
    "print(f\"The probability of getting 3 on a single roll of a six sided die is {P_A} or {round(P_A, 3) * 100}%\")"
   ]
  },
  {
   "cell_type": "code",
   "execution_count": 2,
   "id": "d779b5b5",
   "metadata": {},
   "outputs": [
    {
     "name": "stdout",
     "output_type": "stream",
     "text": [
      "The probability of getting atleast one head when a fair coin is tossed thrice is 0.875 or 87.5%\n"
     ]
    }
   ],
   "source": [
    "'''Q.2 Calculate the probability of atleast getting one head when a coin is tossed thrice.'''\n",
    "\n",
    "# Let,\n",
    "# A : Getting atleast one head when a coin is tossed thrice\n",
    "# S : Sample space generated when a fair coin is tossed thrice\n",
    "\n",
    "S = {'HHH', 'HHT', 'HTH', 'THH', 'HTT', 'THT', 'TTH', 'TTT'}\n",
    "A = {'HHH', 'HHT', 'HTH', 'THH', 'HTT', 'THT', 'TTH'}\n",
    "\n",
    "# Probability of event A (represented here as P_A) is given by:\n",
    "# P(A) = No. of elements in set A / No. of elements in set S\n",
    "# i.e.\n",
    "# P(A) = n(A) / n(S)\n",
    "\n",
    "P_A = len(A) / len(S)\n",
    "print(f\"The probability of getting atleast one head when a fair coin is tossed thrice is {P_A} or {round(P_A, 3) * 100}%\")"
   ]
  },
  {
   "cell_type": "code",
   "execution_count": 3,
   "id": "46bce5d6",
   "metadata": {},
   "outputs": [
    {
     "name": "stdout",
     "output_type": "stream",
     "text": [
      "The probability of not getting a blue jellybean from the jar is 0.7 or 70.0%\n"
     ]
    }
   ],
   "source": [
    "'''Q.3 A glass jar contains 5 red, 3 blue and and 2 green jelly beans. \n",
    "If a jelly bean is chosen at random from the jar, what is the probability that it is not blue?'''\n",
    "\n",
    "# Let,\n",
    "# A : Not getting a blue jellybean  when a jellybean is chosen from the jar\n",
    "# S : Sample space generated when a jellybean is chosen from the jar\n",
    "# and R1, R2, R3, R4, R5, B1, B2, B3, G1 and G2 represent the five red, 3 blue and 2 green jellybeans\n",
    "# respectively.\n",
    "\n",
    "A = {'R1', 'R2', 'R3', 'R4', 'R5', 'G1', 'G2'}\n",
    "S = {'R1', 'R2', 'R3', 'R4', 'R5', 'B1', 'B2', 'B3', 'G1', 'G2'}\n",
    "\n",
    "# Probability of event A (represented here as P_A) is given by:\n",
    "# P(A) = No. of elements in set A / No. of elements in set S\n",
    "# i.e.\n",
    "# P(A) = n(A) / n(S)\n",
    "\n",
    "P_A = len(A) / len(S)\n",
    "print(f\"The probability of not getting a blue jellybean from the jar is {P_A} or {round(P_A, 3) * 100}%\")"
   ]
  },
  {
   "cell_type": "markdown",
   "id": "85b652fd",
   "metadata": {},
   "source": [
    "# 2. Independent and Dependent events"
   ]
  },
  {
   "cell_type": "code",
   "execution_count": 4,
   "id": "85d38b8e",
   "metadata": {},
   "outputs": [
    {
     "name": "stdout",
     "output_type": "stream",
     "text": [
      "Probability that both A and B will be alive after 20 years is 0.35 or 35.0%\n"
     ]
    }
   ],
   "source": [
    "''' Q.1 If the probability that a person A will be alive after 20 years is 0.7 and the probability that person B will be alive after 20 years is 0.5, \n",
    "what is the probability that they will both be alive after 20 years?'''\n",
    "\n",
    "# Let,\n",
    "# A : Person A is alive after 20 yrs\n",
    "# B : Person B is alive after 20 yrs\n",
    "\n",
    "# Given:\n",
    "# P(A) = 0.7\n",
    "# P(B) = 0.5\n",
    "P_A = 0.7\n",
    "P_B = 0.5\n",
    "\n",
    "# As the lives of A and B do not depend on each other, we conclude that events A and B are independent\n",
    "# Required probability is P(A n B) = P(A) * P(B)\n",
    "\n",
    "P_A_and_B = P_A * P_B\n",
    "print(f\"Probability that both A and B will be alive after 20 years is {P_A_and_B} or {round(P_A_and_B, 3) * 100}%\")"
   ]
  },
  {
   "cell_type": "code",
   "execution_count": 5,
   "id": "58936079",
   "metadata": {},
   "outputs": [
    {
     "name": "stdout",
     "output_type": "stream",
     "text": [
      "Probability that 4 or 5 will appear on first roll and 1, 2 or 3 will appear on second roll is  0.1111111111111111 or 11.1%\n"
     ]
    }
   ],
   "source": [
    "'''Q.2 A fair die is tossed twice. \n",
    "Find the probability of getting a 4 or 5 on first toss and a 1, 2 or 3 in the second toss.'''\n",
    "\n",
    "# Let,\n",
    "# A : Getting a 4 or 5 on a roll\n",
    "# B : Getting a 1, 2 or 3 on a roll\n",
    "# S : Sample space generated when a die is rolled once.\n",
    "\n",
    "A = {4, 5}\n",
    "B = {1, 2, 3}\n",
    "S = {1, 2, 3, 4, 5, 6}\n",
    "\n",
    "# Probability of event A (represented here as P_A) is given by:\n",
    "# P(A) = No. of elements in set A / No. of elements in set S\n",
    "# i.e.\n",
    "# P(A) = n(A) / n(S)\n",
    "P_A = len(A) / len(S)\n",
    "P_B = len(A) / len(S)\n",
    "\n",
    "# Required probability is P(A and B)\n",
    "P_A_and_B = P_A * P_B\n",
    "print(f\"Probability that 4 or 5 will appear on first roll and 1, 2 or 3 will appear on second roll is \", end = \" \")\n",
    "print(f\"{P_A_and_B} or {round(P_A_and_B, 3) * 100}%\")"
   ]
  },
  {
   "cell_type": "code",
   "execution_count": 6,
   "id": "6685ddfb",
   "metadata": {},
   "outputs": [
    {
     "name": "stdout",
     "output_type": "stream",
     "text": [
      "Probability that the marbles will come out in the order white, black and green is  0.041666666666666664 or 4.2%\n"
     ]
    }
   ],
   "source": [
    "'''Q.3 A bag contains 5 white marbles, 3 black marbles and 2 green marbles. \n",
    "In each draw, a marble is drawn from the bag and not replaced. \n",
    "In three draws, find the probability of obtaining white, black and green in that order.'''\n",
    "\n",
    "# Let,\n",
    "# A : White marble is drawn\n",
    "# B : Black marble is drawn after event A\n",
    "# C : Green marble is drawn after event B\n",
    "# S : Total marbles after each event (currently 5 + 3 + 2 i.e. 10)\n",
    "\n",
    "n_A = 5\n",
    "n_B = 3\n",
    "n_C = 2\n",
    "n_S = 10\n",
    "\n",
    "# Probability of event A (represented here as P_A) is given by:\n",
    "# P(A) = No. of elements in set A / No. of elements in set S\n",
    "# i.e.\n",
    "# P(A) = n(A) / n(S)\n",
    "\n",
    "P_A = n_A / n_S\n",
    "\n",
    "# As the drawn marble is not replaced, the number of marbles in the bag reduces by 1\n",
    "n_S -= 1\n",
    "P_B = n_B / n_S\n",
    "\n",
    "# As the drawn marble is not replaced, the number of marbles in the bag reduces by 1\n",
    "n_S -= 1\n",
    "P_C = n_C / n_S\n",
    "\n",
    "# Required probability is P(A and B and C) = P(A) * P(B) * P(C)\n",
    "P_A_and_B_and_C = P_A * P_B * P_C\n",
    "print(f\"Probability that the marbles will come out in the order white, black and green is \", end = \" \")\n",
    "print(f\"{P_A_and_B_and_C} or {round(P_A_and_B_and_C, 3) * 100}%\")"
   ]
  },
  {
   "cell_type": "code",
   "execution_count": 7,
   "id": "c50948af",
   "metadata": {},
   "outputs": [
    {
     "name": "stdout",
     "output_type": "stream",
     "text": [
      "Probability of getting a heart or a club card is 0.5 or 50.0%\n"
     ]
    }
   ],
   "source": [
    "'''Q.4 Find the probability of drawing a heart or a club from a shuffled deck of cards.'''\n",
    "\n",
    "# Let,\n",
    "# A : Drawing a heart card from the deck\n",
    "# B : Drawing a club card from the deck\n",
    "# S : Sample space generated from a deck of 52 cards\n",
    "\n",
    "# We know that there are exacty 13 heart and 13 club cards in a deck of 52 cards\n",
    "n_A = 13\n",
    "n_B = 13\n",
    "n_S = 52\n",
    "\n",
    "# Probability of event A (represented here as P_A) is given by:\n",
    "# P(A) = No. of elements in set A / No. of elements in set S\n",
    "# i.e.\n",
    "# P(A) = n(A) / n(S)\n",
    "P_A = n_A / n_S\n",
    "P_B = n_B / n_S\n",
    "\n",
    "# Required probability is P(A or B) = P(A) + P(B)\n",
    "P_A_or_B = P_A + P_B\n",
    "print(f\"Probability of getting a heart or a club card is {P_A_or_B} or {round(P_A_or_B, 3) * 100}%\")"
   ]
  },
  {
   "cell_type": "code",
   "execution_count": 8,
   "id": "64a99944",
   "metadata": {},
   "outputs": [
    {
     "name": "stdout",
     "output_type": "stream",
     "text": [
      "Probability of getting an ace, king or queen card is 0.23076923076923078 or 23.1%\n"
     ]
    }
   ],
   "source": [
    "'''Q.5 Find the probability of drawing an ace, a king or a queen from a deck of cards'''\n",
    "\n",
    "# Let,\n",
    "# A : Drawing an ace from the deck\n",
    "# B : Drawing a king from the deck\n",
    "# C : Drawing a queen from the deck\n",
    "# S : Sample space generated from a deck of 52 cards\n",
    "\n",
    "# We know that there are exacty 4 aces, 4 kings and 4 queen cards in a deck of 52 cards\n",
    "n_A = 4\n",
    "n_B = 4\n",
    "n_C = 4\n",
    "n_S = 52\n",
    "\n",
    "# Probability of event A (represented here as P_A) is given by:\n",
    "# P(A) = No. of elements in set A / No. of elements in set S\n",
    "# i.e.\n",
    "# P(A) = n(A) / n(S)\n",
    "P_A = n_A / n_S\n",
    "P_B = n_B / n_S\n",
    "P_C = n_C / n_S\n",
    "\n",
    "# Required probability is P(A or B or C) = P(A) + P(B) + P(C)\n",
    "P_A_or_B_or_C = P_A + P_B + P_C\n",
    "print(f\"Probability of getting an ace, king or queen card is {P_A_or_B_or_C} or {round(P_A_or_B_or_C, 3) * 100}%\")"
   ]
  },
  {
   "cell_type": "code",
   "execution_count": 9,
   "id": "117198a7",
   "metadata": {},
   "outputs": [
    {
     "name": "stdout",
     "output_type": "stream",
     "text": [
      "Probability of getting a heart or ace card is 0.3076923076923077 or 30.8%\n"
     ]
    }
   ],
   "source": [
    "'''Q.6 Find the probability of drawing an heart or an ace from a deck of cards.'''\n",
    "\n",
    "# Let,\n",
    "# A : Drawing a heart card from the deck\n",
    "# B : Drawing a ace card from the deck\n",
    "# S : Sample space generated from a deck of 52 cards\n",
    "\n",
    "# We know that there are exacty 13 hearts and 4 aces in a deck of 52 cards with one common card (i.e. the ace of hearts)\n",
    "n_A = 13\n",
    "n_B = 4\n",
    "n_A_n_B = 1\n",
    "n_S = 52\n",
    "\n",
    "# Probability of event A (represented here as P_A) is given by:\n",
    "# P(A) = No. of elements in set A / No. of elements in set S\n",
    "# i.e.\n",
    "# P(A) = n(A) / n(S)\n",
    "P_A = n_A / n_S\n",
    "P_B = n_B / n_S\n",
    "P_A_n_B = n_A_n_B / n_S\n",
    "\n",
    "# Required probability is P(A U B) = P(A) + P(B) - P(A n B)\n",
    "P_A_U_B = P_A + P_B - P_A_n_B\n",
    "print(f\"Probability of getting a heart or ace card is {P_A_U_B} or {round(P_A_U_B, 3) * 100}%\")"
   ]
  },
  {
   "cell_type": "markdown",
   "id": "b5c582f5",
   "metadata": {},
   "source": [
    "# 3. Complementary Events"
   ]
  },
  {
   "cell_type": "code",
   "execution_count": 10,
   "id": "22020c12",
   "metadata": {},
   "outputs": [
    {
     "name": "stdout",
     "output_type": "stream",
     "text": [
      "The probability of not getting 5 on a single roll of a six sided die is 0.8333333333333334 or 83.3%\n"
     ]
    }
   ],
   "source": [
    "'''Q.1 What is the probability of not getting 5 when a fair die is thrown?'''\n",
    "\n",
    "# Let,\n",
    "# A : Getting 5 when a fair, six-sided die is rolled\n",
    "# S : Sample space generated when a fair, six-sided die is rolled\n",
    "\n",
    "A = {5}\n",
    "S = {1, 2, 3, 4, 5, 6}\n",
    "\n",
    "# Probability of event A (represented here as P_A) is given by:\n",
    "# P(A) = No. of elements in set A / No. of elements in set S\n",
    "# i.e.\n",
    "# P(A) = n(A) / n(S)\n",
    "\n",
    "P_A = len(A) / len(S)\n",
    "\n",
    "# Required probability is P(A') where A' is the complement of event A (represented in code as P_A_c)\n",
    "P_A_c = 1 - P_A\n",
    "print(f\"The probability of not getting 5 on a single roll of a six sided die is {P_A_c} or {round(P_A_c, 3) * 100}%\")"
   ]
  },
  {
   "cell_type": "markdown",
   "id": "145eb56d",
   "metadata": {},
   "source": [
    "# 4. Conditional Probability"
   ]
  },
  {
   "cell_type": "code",
   "execution_count": null,
   "id": "220ad6fe",
   "metadata": {},
   "outputs": [],
   "source": [
    "'''Q. Determine the probability of a student getting 80% or more marks given that he/she has been absent for more than 10 classes. \n",
    "Use the student-mat.csv file for the data. (Consider subject G3)'''"
   ]
  },
  {
   "cell_type": "code",
   "execution_count": 11,
   "id": "9dc74f4b",
   "metadata": {},
   "outputs": [
    {
     "data": {
      "text/html": [
       "<div>\n",
       "<style scoped>\n",
       "    .dataframe tbody tr th:only-of-type {\n",
       "        vertical-align: middle;\n",
       "    }\n",
       "\n",
       "    .dataframe tbody tr th {\n",
       "        vertical-align: top;\n",
       "    }\n",
       "\n",
       "    .dataframe thead th {\n",
       "        text-align: right;\n",
       "    }\n",
       "</style>\n",
       "<table border=\"1\" class=\"dataframe\">\n",
       "  <thead>\n",
       "    <tr style=\"text-align: right;\">\n",
       "      <th></th>\n",
       "      <th>school</th>\n",
       "      <th>sex</th>\n",
       "      <th>age</th>\n",
       "      <th>address</th>\n",
       "      <th>famsize</th>\n",
       "      <th>Pstatus</th>\n",
       "      <th>Medu</th>\n",
       "      <th>Fedu</th>\n",
       "      <th>Mjob</th>\n",
       "      <th>Fjob</th>\n",
       "      <th>...</th>\n",
       "      <th>famrel</th>\n",
       "      <th>freetime</th>\n",
       "      <th>goout</th>\n",
       "      <th>Dalc</th>\n",
       "      <th>Walc</th>\n",
       "      <th>health</th>\n",
       "      <th>absences</th>\n",
       "      <th>G1</th>\n",
       "      <th>G2</th>\n",
       "      <th>G3</th>\n",
       "    </tr>\n",
       "  </thead>\n",
       "  <tbody>\n",
       "    <tr>\n",
       "      <th>0</th>\n",
       "      <td>GP</td>\n",
       "      <td>F</td>\n",
       "      <td>18</td>\n",
       "      <td>U</td>\n",
       "      <td>GT3</td>\n",
       "      <td>A</td>\n",
       "      <td>4</td>\n",
       "      <td>4</td>\n",
       "      <td>at_home</td>\n",
       "      <td>teacher</td>\n",
       "      <td>...</td>\n",
       "      <td>4</td>\n",
       "      <td>3</td>\n",
       "      <td>4</td>\n",
       "      <td>1</td>\n",
       "      <td>1</td>\n",
       "      <td>3</td>\n",
       "      <td>6</td>\n",
       "      <td>5</td>\n",
       "      <td>6</td>\n",
       "      <td>6</td>\n",
       "    </tr>\n",
       "    <tr>\n",
       "      <th>1</th>\n",
       "      <td>GP</td>\n",
       "      <td>F</td>\n",
       "      <td>17</td>\n",
       "      <td>U</td>\n",
       "      <td>GT3</td>\n",
       "      <td>T</td>\n",
       "      <td>1</td>\n",
       "      <td>1</td>\n",
       "      <td>at_home</td>\n",
       "      <td>other</td>\n",
       "      <td>...</td>\n",
       "      <td>5</td>\n",
       "      <td>3</td>\n",
       "      <td>3</td>\n",
       "      <td>1</td>\n",
       "      <td>1</td>\n",
       "      <td>3</td>\n",
       "      <td>4</td>\n",
       "      <td>5</td>\n",
       "      <td>5</td>\n",
       "      <td>6</td>\n",
       "    </tr>\n",
       "    <tr>\n",
       "      <th>2</th>\n",
       "      <td>GP</td>\n",
       "      <td>F</td>\n",
       "      <td>15</td>\n",
       "      <td>U</td>\n",
       "      <td>LE3</td>\n",
       "      <td>T</td>\n",
       "      <td>1</td>\n",
       "      <td>1</td>\n",
       "      <td>at_home</td>\n",
       "      <td>other</td>\n",
       "      <td>...</td>\n",
       "      <td>4</td>\n",
       "      <td>3</td>\n",
       "      <td>2</td>\n",
       "      <td>2</td>\n",
       "      <td>3</td>\n",
       "      <td>3</td>\n",
       "      <td>10</td>\n",
       "      <td>7</td>\n",
       "      <td>8</td>\n",
       "      <td>10</td>\n",
       "    </tr>\n",
       "  </tbody>\n",
       "</table>\n",
       "<p>3 rows × 33 columns</p>\n",
       "</div>"
      ],
      "text/plain": [
       "  school sex  age address famsize Pstatus  Medu  Fedu     Mjob     Fjob  ...  \\\n",
       "0     GP   F   18       U     GT3       A     4     4  at_home  teacher  ...   \n",
       "1     GP   F   17       U     GT3       T     1     1  at_home    other  ...   \n",
       "2     GP   F   15       U     LE3       T     1     1  at_home    other  ...   \n",
       "\n",
       "  famrel freetime  goout  Dalc  Walc health absences G1 G2  G3  \n",
       "0      4        3      4     1     1      3        6  5  6   6  \n",
       "1      5        3      3     1     1      3        4  5  5   6  \n",
       "2      4        3      2     2     3      3       10  7  8  10  \n",
       "\n",
       "[3 rows x 33 columns]"
      ]
     },
     "execution_count": 11,
     "metadata": {},
     "output_type": "execute_result"
    }
   ],
   "source": [
    "# 1. Load the CSV file and convert it into a dataframe. Check whether the dataframe is created by viewing few rows.\n",
    "\n",
    "import pandas as pd\n",
    "import numpy as np\n",
    "\n",
    "data_frame = pd.read_csv(\"FDS Datasets/student-mat.csv\")\n",
    "data_frame.head(3)"
   ]
  },
  {
   "cell_type": "code",
   "execution_count": 13,
   "id": "bf0e73a6",
   "metadata": {},
   "outputs": [],
   "source": [
    "# 2. We are concerned with the columns, absences and G3 (final grade from 0 to 20).\n",
    "# Let us create a couple new boolean columns based on these columns to make our lives easier.\n",
    "\n",
    "# i) Add a boolean column called grade_A noting if a student has got more than 80% marks or not.\n",
    "# ii) Add a boolean column called high_absentee noting if a student has missed 10 or more classes.\n",
    "\n",
    "data_frame['grade_A'] = np.where(data_frame['G3'] * 5 >= 80, 1, 0)\n",
    "\n",
    "data_frame['high_absentee'] = np.where(data_frame['absences']  >= 10, 1, 0)"
   ]
  },
  {
   "cell_type": "code",
   "execution_count": 14,
   "id": "db3a08d8",
   "metadata": {},
   "outputs": [],
   "source": [
    "# 3. Add an extra column to make building the pivot table easier.\n",
    "\n",
    "data_frame['count'] = 1"
   ]
  },
  {
   "cell_type": "code",
   "execution_count": 15,
   "id": "fcac7200",
   "metadata": {},
   "outputs": [
    {
     "data": {
      "text/html": [
       "<div>\n",
       "<style scoped>\n",
       "    .dataframe tbody tr th:only-of-type {\n",
       "        vertical-align: middle;\n",
       "    }\n",
       "\n",
       "    .dataframe tbody tr th {\n",
       "        vertical-align: top;\n",
       "    }\n",
       "\n",
       "    .dataframe thead th {\n",
       "        text-align: right;\n",
       "    }\n",
       "</style>\n",
       "<table border=\"1\" class=\"dataframe\">\n",
       "  <thead>\n",
       "    <tr style=\"text-align: right;\">\n",
       "      <th></th>\n",
       "      <th>grade_A</th>\n",
       "      <th>high_absentee</th>\n",
       "      <th>count</th>\n",
       "    </tr>\n",
       "  </thead>\n",
       "  <tbody>\n",
       "    <tr>\n",
       "      <th>0</th>\n",
       "      <td>0</td>\n",
       "      <td>0</td>\n",
       "      <td>1</td>\n",
       "    </tr>\n",
       "    <tr>\n",
       "      <th>1</th>\n",
       "      <td>0</td>\n",
       "      <td>0</td>\n",
       "      <td>1</td>\n",
       "    </tr>\n",
       "    <tr>\n",
       "      <th>2</th>\n",
       "      <td>0</td>\n",
       "      <td>1</td>\n",
       "      <td>1</td>\n",
       "    </tr>\n",
       "    <tr>\n",
       "      <th>3</th>\n",
       "      <td>0</td>\n",
       "      <td>0</td>\n",
       "      <td>1</td>\n",
       "    </tr>\n",
       "    <tr>\n",
       "      <th>4</th>\n",
       "      <td>0</td>\n",
       "      <td>0</td>\n",
       "      <td>1</td>\n",
       "    </tr>\n",
       "  </tbody>\n",
       "</table>\n",
       "</div>"
      ],
      "text/plain": [
       "   grade_A  high_absentee  count\n",
       "0        0              0      1\n",
       "1        0              0      1\n",
       "2        0              1      1\n",
       "3        0              0      1\n",
       "4        0              0      1"
      ]
     },
     "execution_count": 15,
     "metadata": {},
     "output_type": "execute_result"
    }
   ],
   "source": [
    "# 4. Drop all columns we don't care about\n",
    "\n",
    "data_frame = data_frame[['grade_A', 'high_absentee', 'count']]\n",
    "data_frame.head()"
   ]
  },
  {
   "cell_type": "code",
   "execution_count": 16,
   "id": "cd2737a3",
   "metadata": {},
   "outputs": [
    {
     "name": "stdout",
     "output_type": "stream",
     "text": [
      "high_absentee    0   1\n",
      "grade_A               \n",
      "0              277  78\n",
      "1               35   5\n"
     ]
    }
   ],
   "source": [
    "# 5. Generate the pivot table.\n",
    "\n",
    "pivot_table = pd.pivot_table(data_frame, values = 'count', index = ['grade_A'], columns = ['high_absentee'], aggfunc = np.size, fill_value = 0)\n",
    "print(pivot_table)"
   ]
  },
  {
   "cell_type": "code",
   "execution_count": 17,
   "id": "2f2d5081",
   "metadata": {},
   "outputs": [
    {
     "name": "stdout",
     "output_type": "stream",
     "text": [
      "Proabability of a student getting atleast than 80% marks is 0.10126582278481013 or 10.100000000000001%\n",
      "Proabability of a student being absent for atleast 10 classes is 0.21012658227848102 or 21.0%\n",
      "Proabability of a student getting atleast than 80% marks and being absent for atleast 10 classes is 0.10126582278481013 or 10.13%\n",
      "Proabability of a student getting atleast than 80% marks given that he/she was absent for atleast 10 classes is 0.060240963855421686 or 6.02%\n"
     ]
    }
   ],
   "source": [
    "# Let,\n",
    "# A : Event that the student gets atleast than 80% marks\n",
    "# B : Event that the student is absent for 10 or more classes.\n",
    "# S : Total students\n",
    "\n",
    "# Given,\n",
    "n_A = 35 + 5\n",
    "n_B = 78 + 5\n",
    "n_A_n_B = 5\n",
    "n_S = 277 + 78 + 35 + 5\n",
    "\n",
    "# Using marginal probability,\n",
    "P_A = n_A / n_S\n",
    "P_B = n_B / n_S\n",
    "P_A_n_B = n_A_n_B / n_S\n",
    "\n",
    "print(f\"Proabability of a student getting atleast than 80% marks is {P_A} or {round(P_A, 3) * 100}%\")\n",
    "print(f\"Proabability of a student being absent for atleast 10 classes is {P_B} or {round(P_B, 3) * 100}%\")\n",
    "print(f\"Proabability of a student getting atleast than 80% marks and being absent for atleast 10 classes is\", end = \" \")\n",
    "print(f\"{P_A} or {round(P_A, 4) * 100}%\", end = \"\\n\")\n",
    "\n",
    "# Required probability is P(A | B) = P(A n B) / P(B)\n",
    "P_A_given_B = P_A_n_B / P_B\n",
    "print(f\"Proabability of a student getting atleast than 80% marks given that he/she was absent for\", end = \" \")\n",
    "print(f\"atleast 10 classes is {P_A_given_B} or {round(P_A_given_B, 4) * 100}%\")"
   ]
  },
  {
   "cell_type": "code",
   "execution_count": null,
   "id": "8e779432",
   "metadata": {},
   "outputs": [],
   "source": []
  }
 ],
 "metadata": {
  "kernelspec": {
   "display_name": "Python 3 (ipykernel)",
   "language": "python",
   "name": "python3"
  },
  "language_info": {
   "codemirror_mode": {
    "name": "ipython",
    "version": 3
   },
   "file_extension": ".py",
   "mimetype": "text/x-python",
   "name": "python",
   "nbconvert_exporter": "python",
   "pygments_lexer": "ipython3",
   "version": "3.9.7"
  }
 },
 "nbformat": 4,
 "nbformat_minor": 5
}
