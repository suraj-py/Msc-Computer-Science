{
 "cells": [
  {
   "cell_type": "markdown",
   "id": "0992d7f9",
   "metadata": {},
   "source": [
    "# Practical 6 - Descriptive Statistics"
   ]
  },
  {
   "cell_type": "code",
   "execution_count": 46,
   "id": "e85791e5",
   "metadata": {},
   "outputs": [],
   "source": [
    "# import required packages\n",
    "import numpy as np\n",
    "import matplotlib.pyplot as plt\n",
    "import pandas as pd\n",
    "import seaborn as sns\n",
    "from scipy.stats import kurtosis\n",
    "from scipy.stats import skew"
   ]
  },
  {
   "cell_type": "code",
   "execution_count": 28,
   "id": "4cf45e50",
   "metadata": {},
   "outputs": [
    {
     "data": {
      "text/html": [
       "<div>\n",
       "<style scoped>\n",
       "    .dataframe tbody tr th:only-of-type {\n",
       "        vertical-align: middle;\n",
       "    }\n",
       "\n",
       "    .dataframe tbody tr th {\n",
       "        vertical-align: top;\n",
       "    }\n",
       "\n",
       "    .dataframe thead th {\n",
       "        text-align: right;\n",
       "    }\n",
       "</style>\n",
       "<table border=\"1\" class=\"dataframe\">\n",
       "  <thead>\n",
       "    <tr style=\"text-align: right;\">\n",
       "      <th></th>\n",
       "      <th>Name</th>\n",
       "      <th>Salary</th>\n",
       "      <th>Country</th>\n",
       "    </tr>\n",
       "  </thead>\n",
       "  <tbody>\n",
       "    <tr>\n",
       "      <th>0</th>\n",
       "      <td>Dan</td>\n",
       "      <td>40000</td>\n",
       "      <td>USA</td>\n",
       "    </tr>\n",
       "    <tr>\n",
       "      <th>1</th>\n",
       "      <td>Elizabeth</td>\n",
       "      <td>32000</td>\n",
       "      <td>Brazil</td>\n",
       "    </tr>\n",
       "    <tr>\n",
       "      <th>2</th>\n",
       "      <td>Jon</td>\n",
       "      <td>45000</td>\n",
       "      <td>Italy</td>\n",
       "    </tr>\n",
       "    <tr>\n",
       "      <th>3</th>\n",
       "      <td>Maria</td>\n",
       "      <td>54000</td>\n",
       "      <td>USA</td>\n",
       "    </tr>\n",
       "    <tr>\n",
       "      <th>4</th>\n",
       "      <td>Mark</td>\n",
       "      <td>72000</td>\n",
       "      <td>USA</td>\n",
       "    </tr>\n",
       "    <tr>\n",
       "      <th>5</th>\n",
       "      <td>Bill</td>\n",
       "      <td>62000</td>\n",
       "      <td>Brazil</td>\n",
       "    </tr>\n",
       "    <tr>\n",
       "      <th>6</th>\n",
       "      <td>Jess</td>\n",
       "      <td>92000</td>\n",
       "      <td>Italy</td>\n",
       "    </tr>\n",
       "    <tr>\n",
       "      <th>7</th>\n",
       "      <td>Julia</td>\n",
       "      <td>55000</td>\n",
       "      <td>USA</td>\n",
       "    </tr>\n",
       "    <tr>\n",
       "      <th>8</th>\n",
       "      <td>Jeff</td>\n",
       "      <td>35000</td>\n",
       "      <td>Italy</td>\n",
       "    </tr>\n",
       "    <tr>\n",
       "      <th>9</th>\n",
       "      <td>Ben</td>\n",
       "      <td>48000</td>\n",
       "      <td>Brazil</td>\n",
       "    </tr>\n",
       "  </tbody>\n",
       "</table>\n",
       "</div>"
      ],
      "text/plain": [
       "        Name  Salary Country\n",
       "0        Dan   40000     USA\n",
       "1  Elizabeth   32000  Brazil\n",
       "2        Jon   45000   Italy\n",
       "3      Maria   54000     USA\n",
       "4       Mark   72000     USA\n",
       "5       Bill   62000  Brazil\n",
       "6       Jess   92000   Italy\n",
       "7      Julia   55000     USA\n",
       "8       Jeff   35000   Italy\n",
       "9        Ben   48000  Brazil"
      ]
     },
     "execution_count": 28,
     "metadata": {},
     "output_type": "execute_result"
    }
   ],
   "source": [
    "# load data\n",
    "data_frame = pd.read_csv('FDS Datasets/stats.csv')\n",
    "data_frame"
   ]
  },
  {
   "cell_type": "markdown",
   "id": "a0da8f81",
   "metadata": {},
   "source": [
    "# 1. Basic Statistics"
   ]
  },
  {
   "cell_type": "code",
   "execution_count": 29,
   "id": "165a8ec0",
   "metadata": {},
   "outputs": [
    {
     "data": {
      "text/plain": [
       "10"
      ]
     },
     "execution_count": 29,
     "metadata": {},
     "output_type": "execute_result"
    }
   ],
   "source": [
    "# No. of salaries present\n",
    "data_frame[\"Salary\"].count()"
   ]
  },
  {
   "cell_type": "code",
   "execution_count": 30,
   "id": "668badf6",
   "metadata": {},
   "outputs": [
    {
     "data": {
      "text/plain": [
       "535000"
      ]
     },
     "execution_count": 30,
     "metadata": {},
     "output_type": "execute_result"
    }
   ],
   "source": [
    "# Cumulative salaries\n",
    "data_frame[\"Salary\"].sum()"
   ]
  },
  {
   "cell_type": "code",
   "execution_count": 31,
   "id": "34070f87",
   "metadata": {},
   "outputs": [
    {
     "data": {
      "text/plain": [
       "Country\n",
       "Brazil    142000\n",
       "Italy     172000\n",
       "USA       221000\n",
       "Name: Salary, dtype: int64"
      ]
     },
     "execution_count": 31,
     "metadata": {},
     "output_type": "execute_result"
    }
   ],
   "source": [
    "# Cumulative salaries of various countries\n",
    "data_frame.groupby([\"Country\"])[\"Salary\"].sum()"
   ]
  },
  {
   "cell_type": "code",
   "execution_count": 32,
   "id": "80e3288f",
   "metadata": {},
   "outputs": [
    {
     "data": {
      "text/html": [
       "<div>\n",
       "<style scoped>\n",
       "    .dataframe tbody tr th:only-of-type {\n",
       "        vertical-align: middle;\n",
       "    }\n",
       "\n",
       "    .dataframe tbody tr th {\n",
       "        vertical-align: top;\n",
       "    }\n",
       "\n",
       "    .dataframe thead th {\n",
       "        text-align: right;\n",
       "    }\n",
       "</style>\n",
       "<table border=\"1\" class=\"dataframe\">\n",
       "  <thead>\n",
       "    <tr style=\"text-align: right;\">\n",
       "      <th></th>\n",
       "      <th>Name</th>\n",
       "      <th>Salary</th>\n",
       "    </tr>\n",
       "    <tr>\n",
       "      <th>Country</th>\n",
       "      <th></th>\n",
       "      <th></th>\n",
       "    </tr>\n",
       "  </thead>\n",
       "  <tbody>\n",
       "    <tr>\n",
       "      <th>Brazil</th>\n",
       "      <td>3</td>\n",
       "      <td>3</td>\n",
       "    </tr>\n",
       "    <tr>\n",
       "      <th>Italy</th>\n",
       "      <td>3</td>\n",
       "      <td>3</td>\n",
       "    </tr>\n",
       "    <tr>\n",
       "      <th>USA</th>\n",
       "      <td>4</td>\n",
       "      <td>4</td>\n",
       "    </tr>\n",
       "  </tbody>\n",
       "</table>\n",
       "</div>"
      ],
      "text/plain": [
       "         Name  Salary\n",
       "Country              \n",
       "Brazil      3       3\n",
       "Italy       3       3\n",
       "USA         4       4"
      ]
     },
     "execution_count": 32,
     "metadata": {},
     "output_type": "execute_result"
    }
   ],
   "source": [
    "# Entry count of various countries\n",
    "data_frame.groupby([\"Country\"]).count()"
   ]
  },
  {
   "cell_type": "markdown",
   "id": "82a9e26c",
   "metadata": {},
   "source": [
    "# 2. Mean"
   ]
  },
  {
   "cell_type": "code",
   "execution_count": 33,
   "id": "0800a389",
   "metadata": {},
   "outputs": [
    {
     "data": {
      "text/plain": [
       "53500.0"
      ]
     },
     "execution_count": 33,
     "metadata": {},
     "output_type": "execute_result"
    }
   ],
   "source": [
    "data_frame[\"Salary\"].mean()"
   ]
  },
  {
   "cell_type": "markdown",
   "id": "2f788121",
   "metadata": {},
   "source": [
    "# 3. Median"
   ]
  },
  {
   "cell_type": "code",
   "execution_count": 34,
   "id": "b59aa901",
   "metadata": {},
   "outputs": [
    {
     "data": {
      "text/plain": [
       "51000.0"
      ]
     },
     "execution_count": 34,
     "metadata": {},
     "output_type": "execute_result"
    }
   ],
   "source": [
    "data_frame[\"Salary\"].median()"
   ]
  },
  {
   "cell_type": "markdown",
   "id": "d768a6bd",
   "metadata": {},
   "source": [
    "# 4. Mode"
   ]
  },
  {
   "cell_type": "code",
   "execution_count": 35,
   "id": "6e2501a6",
   "metadata": {},
   "outputs": [
    {
     "data": {
      "text/plain": [
       "0    32000\n",
       "1    35000\n",
       "2    40000\n",
       "3    45000\n",
       "4    48000\n",
       "5    54000\n",
       "6    55000\n",
       "7    62000\n",
       "8    72000\n",
       "9    92000\n",
       "dtype: int64"
      ]
     },
     "execution_count": 35,
     "metadata": {},
     "output_type": "execute_result"
    }
   ],
   "source": [
    "data_frame[\"Salary\"].mode()"
   ]
  },
  {
   "cell_type": "markdown",
   "id": "5fba3ad7",
   "metadata": {},
   "source": [
    "# 5. Variance"
   ]
  },
  {
   "cell_type": "code",
   "execution_count": 36,
   "id": "5e58f662",
   "metadata": {},
   "outputs": [
    {
     "data": {
      "text/plain": [
       "332055555.5555556"
      ]
     },
     "execution_count": 36,
     "metadata": {},
     "output_type": "execute_result"
    }
   ],
   "source": [
    "data_frame[\"Salary\"].var()"
   ]
  },
  {
   "cell_type": "markdown",
   "id": "fddd94f4",
   "metadata": {},
   "source": [
    "# 6. Standard Deviation"
   ]
  },
  {
   "cell_type": "code",
   "execution_count": 37,
   "id": "3369073b",
   "metadata": {},
   "outputs": [
    {
     "data": {
      "text/plain": [
       "18222.391598128816"
      ]
     },
     "execution_count": 37,
     "metadata": {},
     "output_type": "execute_result"
    }
   ],
   "source": [
    "data_frame[\"Salary\"].std()"
   ]
  },
  {
   "cell_type": "markdown",
   "id": "b08a411f",
   "metadata": {},
   "source": [
    "# 7. Skewness"
   ]
  },
  {
   "cell_type": "code",
   "execution_count": 38,
   "id": "88241d23",
   "metadata": {},
   "outputs": [
    {
     "name": "stdout",
     "output_type": "stream",
     "text": [
      "1.021551304801318\n",
      "The distribution is positively skewed\n"
     ]
    }
   ],
   "source": [
    "skewness = data_frame[\"Salary\"].skew()\n",
    "\n",
    "print(skewness)\n",
    "\n",
    "if skewness < 0:\n",
    "    print(\"The distribution is negatively skewed\")\n",
    "elif skewness > 0:\n",
    "    print(\"The distribution is positively skewed\")\n",
    "else:\n",
    "    print(\"The distribution is not skewed\")"
   ]
  },
  {
   "cell_type": "code",
   "execution_count": 39,
   "id": "9d688c0b",
   "metadata": {},
   "outputs": [
    {
     "data": {
      "text/html": [
       "<div>\n",
       "<style scoped>\n",
       "    .dataframe tbody tr th:only-of-type {\n",
       "        vertical-align: middle;\n",
       "    }\n",
       "\n",
       "    .dataframe tbody tr th {\n",
       "        vertical-align: top;\n",
       "    }\n",
       "\n",
       "    .dataframe thead th {\n",
       "        text-align: right;\n",
       "    }\n",
       "</style>\n",
       "<table border=\"1\" class=\"dataframe\">\n",
       "  <thead>\n",
       "    <tr style=\"text-align: right;\">\n",
       "      <th></th>\n",
       "      <th>Infant ID</th>\n",
       "      <th>Gestational Age (Weeks)</th>\n",
       "      <th>Birth Weight (Grams)</th>\n",
       "    </tr>\n",
       "  </thead>\n",
       "  <tbody>\n",
       "    <tr>\n",
       "      <th>0</th>\n",
       "      <td>1</td>\n",
       "      <td>34.70</td>\n",
       "      <td>1895</td>\n",
       "    </tr>\n",
       "    <tr>\n",
       "      <th>1</th>\n",
       "      <td>2</td>\n",
       "      <td>36.00</td>\n",
       "      <td>2030</td>\n",
       "    </tr>\n",
       "    <tr>\n",
       "      <th>2</th>\n",
       "      <td>3</td>\n",
       "      <td>29.30</td>\n",
       "      <td>1440</td>\n",
       "    </tr>\n",
       "    <tr>\n",
       "      <th>3</th>\n",
       "      <td>4</td>\n",
       "      <td>40.10</td>\n",
       "      <td>2835</td>\n",
       "    </tr>\n",
       "    <tr>\n",
       "      <th>4</th>\n",
       "      <td>5</td>\n",
       "      <td>35.70</td>\n",
       "      <td>3090</td>\n",
       "    </tr>\n",
       "  </tbody>\n",
       "</table>\n",
       "</div>"
      ],
      "text/plain": [
       "   Infant ID  Gestational Age (Weeks)  Birth Weight (Grams)\n",
       "0          1                    34.70                  1895\n",
       "1          2                    36.00                  2030\n",
       "2          3                    29.30                  1440\n",
       "3          4                    40.10                  2835\n",
       "4          5                    35.70                  3090"
      ]
     },
     "execution_count": 39,
     "metadata": {},
     "output_type": "execute_result"
    }
   ],
   "source": [
    "# Load the BirthWeight dataset\n",
    "data_frame_2=pd.read_csv('FDS Datasets/BirthWeight.csv')\n",
    "data_frame_2.head()"
   ]
  },
  {
   "cell_type": "code",
   "execution_count": 40,
   "id": "6f996ef4",
   "metadata": {},
   "outputs": [
    {
     "data": {
      "text/html": [
       "<div>\n",
       "<style scoped>\n",
       "    .dataframe tbody tr th:only-of-type {\n",
       "        vertical-align: middle;\n",
       "    }\n",
       "\n",
       "    .dataframe tbody tr th {\n",
       "        vertical-align: top;\n",
       "    }\n",
       "\n",
       "    .dataframe thead th {\n",
       "        text-align: right;\n",
       "    }\n",
       "</style>\n",
       "<table border=\"1\" class=\"dataframe\">\n",
       "  <thead>\n",
       "    <tr style=\"text-align: right;\">\n",
       "      <th></th>\n",
       "      <th>Gestational Age (Weeks)</th>\n",
       "      <th>Birth Weight (Grams)</th>\n",
       "    </tr>\n",
       "    <tr>\n",
       "      <th>Infant ID</th>\n",
       "      <th></th>\n",
       "      <th></th>\n",
       "    </tr>\n",
       "  </thead>\n",
       "  <tbody>\n",
       "    <tr>\n",
       "      <th>1</th>\n",
       "      <td>34.70</td>\n",
       "      <td>1895</td>\n",
       "    </tr>\n",
       "    <tr>\n",
       "      <th>2</th>\n",
       "      <td>36.00</td>\n",
       "      <td>2030</td>\n",
       "    </tr>\n",
       "    <tr>\n",
       "      <th>3</th>\n",
       "      <td>29.30</td>\n",
       "      <td>1440</td>\n",
       "    </tr>\n",
       "    <tr>\n",
       "      <th>4</th>\n",
       "      <td>40.10</td>\n",
       "      <td>2835</td>\n",
       "    </tr>\n",
       "    <tr>\n",
       "      <th>5</th>\n",
       "      <td>35.70</td>\n",
       "      <td>3090</td>\n",
       "    </tr>\n",
       "  </tbody>\n",
       "</table>\n",
       "</div>"
      ],
      "text/plain": [
       "           Gestational Age (Weeks)  Birth Weight (Grams)\n",
       "Infant ID                                               \n",
       "1                            34.70                  1895\n",
       "2                            36.00                  2030\n",
       "3                            29.30                  1440\n",
       "4                            40.10                  2835\n",
       "5                            35.70                  3090"
      ]
     },
     "execution_count": 40,
     "metadata": {},
     "output_type": "execute_result"
    }
   ],
   "source": [
    "# Set Infant ID as the index\n",
    "data_frame_2.set_index(\"Infant ID\", inplace = True)\n",
    "data_frame_2.head()\n"
   ]
  },
  {
   "cell_type": "markdown",
   "id": "50dec80b",
   "metadata": {},
   "source": [
    "# 8. Covariance"
   ]
  },
  {
   "cell_type": "code",
   "execution_count": 41,
   "id": "21bf5c7f",
   "metadata": {},
   "outputs": [
    {
     "data": {
      "text/html": [
       "<div>\n",
       "<style scoped>\n",
       "    .dataframe tbody tr th:only-of-type {\n",
       "        vertical-align: middle;\n",
       "    }\n",
       "\n",
       "    .dataframe tbody tr th {\n",
       "        vertical-align: top;\n",
       "    }\n",
       "\n",
       "    .dataframe thead th {\n",
       "        text-align: right;\n",
       "    }\n",
       "</style>\n",
       "<table border=\"1\" class=\"dataframe\">\n",
       "  <thead>\n",
       "    <tr style=\"text-align: right;\">\n",
       "      <th></th>\n",
       "      <th>Gestational Age (Weeks)</th>\n",
       "      <th>Birth Weight (Grams)</th>\n",
       "    </tr>\n",
       "  </thead>\n",
       "  <tbody>\n",
       "    <tr>\n",
       "      <th>Gestational Age (Weeks)</th>\n",
       "      <td>9.96</td>\n",
       "      <td>1,798.02</td>\n",
       "    </tr>\n",
       "    <tr>\n",
       "      <th>Birth Weight (Grams)</th>\n",
       "      <td>1,798.02</td>\n",
       "      <td>485,478.75</td>\n",
       "    </tr>\n",
       "  </tbody>\n",
       "</table>\n",
       "</div>"
      ],
      "text/plain": [
       "                         Gestational Age (Weeks)  Birth Weight (Grams)\n",
       "Gestational Age (Weeks)                     9.96              1,798.02\n",
       "Birth Weight (Grams)                    1,798.02            485,478.75"
      ]
     },
     "execution_count": 41,
     "metadata": {},
     "output_type": "execute_result"
    }
   ],
   "source": [
    "data_frame_2.cov()"
   ]
  },
  {
   "cell_type": "markdown",
   "id": "2f57810a",
   "metadata": {},
   "source": [
    "# 9. Correlation"
   ]
  },
  {
   "cell_type": "code",
   "execution_count": 42,
   "id": "57e6cf65",
   "metadata": {},
   "outputs": [
    {
     "data": {
      "text/html": [
       "<div>\n",
       "<style scoped>\n",
       "    .dataframe tbody tr th:only-of-type {\n",
       "        vertical-align: middle;\n",
       "    }\n",
       "\n",
       "    .dataframe tbody tr th {\n",
       "        vertical-align: top;\n",
       "    }\n",
       "\n",
       "    .dataframe thead th {\n",
       "        text-align: right;\n",
       "    }\n",
       "</style>\n",
       "<table border=\"1\" class=\"dataframe\">\n",
       "  <thead>\n",
       "    <tr style=\"text-align: right;\">\n",
       "      <th></th>\n",
       "      <th>Gestational Age (Weeks)</th>\n",
       "      <th>Birth Weight (Grams)</th>\n",
       "    </tr>\n",
       "  </thead>\n",
       "  <tbody>\n",
       "    <tr>\n",
       "      <th>Gestational Age (Weeks)</th>\n",
       "      <td>1.00</td>\n",
       "      <td>0.82</td>\n",
       "    </tr>\n",
       "    <tr>\n",
       "      <th>Birth Weight (Grams)</th>\n",
       "      <td>0.82</td>\n",
       "      <td>1.00</td>\n",
       "    </tr>\n",
       "  </tbody>\n",
       "</table>\n",
       "</div>"
      ],
      "text/plain": [
       "                         Gestational Age (Weeks)  Birth Weight (Grams)\n",
       "Gestational Age (Weeks)                     1.00                  0.82\n",
       "Birth Weight (Grams)                        0.82                  1.00"
      ]
     },
     "execution_count": 42,
     "metadata": {},
     "output_type": "execute_result"
    }
   ],
   "source": [
    "data_frame_2.corr(method = \"pearson\")"
   ]
  },
  {
   "cell_type": "code",
   "execution_count": 43,
   "id": "64518943",
   "metadata": {},
   "outputs": [
    {
     "data": {
      "text/html": [
       "<div>\n",
       "<style scoped>\n",
       "    .dataframe tbody tr th:only-of-type {\n",
       "        vertical-align: middle;\n",
       "    }\n",
       "\n",
       "    .dataframe tbody tr th {\n",
       "        vertical-align: top;\n",
       "    }\n",
       "\n",
       "    .dataframe thead th {\n",
       "        text-align: right;\n",
       "    }\n",
       "</style>\n",
       "<table border=\"1\" class=\"dataframe\">\n",
       "  <thead>\n",
       "    <tr style=\"text-align: right;\">\n",
       "      <th></th>\n",
       "      <th>id</th>\n",
       "      <th>carat</th>\n",
       "      <th>cut</th>\n",
       "      <th>color</th>\n",
       "      <th>clarity</th>\n",
       "      <th>depth</th>\n",
       "      <th>table</th>\n",
       "      <th>price</th>\n",
       "      <th>x</th>\n",
       "      <th>y</th>\n",
       "      <th>z</th>\n",
       "    </tr>\n",
       "  </thead>\n",
       "  <tbody>\n",
       "    <tr>\n",
       "      <th>0</th>\n",
       "      <td>1</td>\n",
       "      <td>0.23</td>\n",
       "      <td>Ideal</td>\n",
       "      <td>E</td>\n",
       "      <td>SI2</td>\n",
       "      <td>61.50</td>\n",
       "      <td>55.00</td>\n",
       "      <td>326</td>\n",
       "      <td>3.95</td>\n",
       "      <td>3.98</td>\n",
       "      <td>2.43</td>\n",
       "    </tr>\n",
       "    <tr>\n",
       "      <th>1</th>\n",
       "      <td>2</td>\n",
       "      <td>0.21</td>\n",
       "      <td>Premium</td>\n",
       "      <td>E</td>\n",
       "      <td>SI1</td>\n",
       "      <td>59.80</td>\n",
       "      <td>61.00</td>\n",
       "      <td>326</td>\n",
       "      <td>3.89</td>\n",
       "      <td>3.84</td>\n",
       "      <td>2.31</td>\n",
       "    </tr>\n",
       "    <tr>\n",
       "      <th>2</th>\n",
       "      <td>3</td>\n",
       "      <td>0.23</td>\n",
       "      <td>Good</td>\n",
       "      <td>E</td>\n",
       "      <td>VS1</td>\n",
       "      <td>56.90</td>\n",
       "      <td>65.00</td>\n",
       "      <td>327</td>\n",
       "      <td>4.05</td>\n",
       "      <td>4.07</td>\n",
       "      <td>2.31</td>\n",
       "    </tr>\n",
       "    <tr>\n",
       "      <th>3</th>\n",
       "      <td>4</td>\n",
       "      <td>0.29</td>\n",
       "      <td>Premium</td>\n",
       "      <td>I</td>\n",
       "      <td>VS2</td>\n",
       "      <td>62.40</td>\n",
       "      <td>58.00</td>\n",
       "      <td>334</td>\n",
       "      <td>4.20</td>\n",
       "      <td>4.23</td>\n",
       "      <td>2.63</td>\n",
       "    </tr>\n",
       "    <tr>\n",
       "      <th>4</th>\n",
       "      <td>5</td>\n",
       "      <td>0.31</td>\n",
       "      <td>Good</td>\n",
       "      <td>J</td>\n",
       "      <td>SI2</td>\n",
       "      <td>63.30</td>\n",
       "      <td>58.00</td>\n",
       "      <td>335</td>\n",
       "      <td>4.34</td>\n",
       "      <td>4.35</td>\n",
       "      <td>2.75</td>\n",
       "    </tr>\n",
       "  </tbody>\n",
       "</table>\n",
       "</div>"
      ],
      "text/plain": [
       "   id  carat      cut color clarity  depth  table  price    x    y    z\n",
       "0   1   0.23    Ideal     E     SI2  61.50  55.00    326 3.95 3.98 2.43\n",
       "1   2   0.21  Premium     E     SI1  59.80  61.00    326 3.89 3.84 2.31\n",
       "2   3   0.23     Good     E     VS1  56.90  65.00    327 4.05 4.07 2.31\n",
       "3   4   0.29  Premium     I     VS2  62.40  58.00    334 4.20 4.23 2.63\n",
       "4   5   0.31     Good     J     SI2  63.30  58.00    335 4.34 4.35 2.75"
      ]
     },
     "execution_count": 43,
     "metadata": {},
     "output_type": "execute_result"
    }
   ],
   "source": [
    "# Load the diamonds dataset\n",
    "pd.set_option(\"display.max_columns\",None)  # to display all the columns\n",
    "pd.options.display.float_format = \"{:,.2f}\".format\n",
    "\n",
    "data_frame_3 = pd.read_csv(\"FDS Datasets/diamonds.csv\")\n",
    "data_frame_3.head()"
   ]
  },
  {
   "cell_type": "code",
   "execution_count": 44,
   "id": "2133284b",
   "metadata": {},
   "outputs": [
    {
     "data": {
      "text/html": [
       "<div>\n",
       "<style scoped>\n",
       "    .dataframe tbody tr th:only-of-type {\n",
       "        vertical-align: middle;\n",
       "    }\n",
       "\n",
       "    .dataframe tbody tr th {\n",
       "        vertical-align: top;\n",
       "    }\n",
       "\n",
       "    .dataframe thead th {\n",
       "        text-align: right;\n",
       "    }\n",
       "</style>\n",
       "<table border=\"1\" class=\"dataframe\">\n",
       "  <thead>\n",
       "    <tr style=\"text-align: right;\">\n",
       "      <th></th>\n",
       "      <th>carat</th>\n",
       "      <th>depth</th>\n",
       "      <th>table</th>\n",
       "      <th>price</th>\n",
       "      <th>x</th>\n",
       "      <th>y</th>\n",
       "      <th>z</th>\n",
       "    </tr>\n",
       "  </thead>\n",
       "  <tbody>\n",
       "    <tr>\n",
       "      <th>count</th>\n",
       "      <td>53,940.00</td>\n",
       "      <td>53,940.00</td>\n",
       "      <td>53,940.00</td>\n",
       "      <td>53,940.00</td>\n",
       "      <td>53,940.00</td>\n",
       "      <td>53,940.00</td>\n",
       "      <td>53,940.00</td>\n",
       "    </tr>\n",
       "    <tr>\n",
       "      <th>mean</th>\n",
       "      <td>0.80</td>\n",
       "      <td>61.75</td>\n",
       "      <td>57.46</td>\n",
       "      <td>3,932.80</td>\n",
       "      <td>5.73</td>\n",
       "      <td>5.73</td>\n",
       "      <td>3.54</td>\n",
       "    </tr>\n",
       "    <tr>\n",
       "      <th>std</th>\n",
       "      <td>0.47</td>\n",
       "      <td>1.43</td>\n",
       "      <td>2.23</td>\n",
       "      <td>3,989.44</td>\n",
       "      <td>1.12</td>\n",
       "      <td>1.14</td>\n",
       "      <td>0.71</td>\n",
       "    </tr>\n",
       "    <tr>\n",
       "      <th>min</th>\n",
       "      <td>0.20</td>\n",
       "      <td>43.00</td>\n",
       "      <td>43.00</td>\n",
       "      <td>326.00</td>\n",
       "      <td>0.00</td>\n",
       "      <td>0.00</td>\n",
       "      <td>0.00</td>\n",
       "    </tr>\n",
       "    <tr>\n",
       "      <th>25%</th>\n",
       "      <td>0.40</td>\n",
       "      <td>61.00</td>\n",
       "      <td>56.00</td>\n",
       "      <td>950.00</td>\n",
       "      <td>4.71</td>\n",
       "      <td>4.72</td>\n",
       "      <td>2.91</td>\n",
       "    </tr>\n",
       "    <tr>\n",
       "      <th>Median/50%</th>\n",
       "      <td>0.70</td>\n",
       "      <td>61.80</td>\n",
       "      <td>57.00</td>\n",
       "      <td>2,401.00</td>\n",
       "      <td>5.70</td>\n",
       "      <td>5.71</td>\n",
       "      <td>3.53</td>\n",
       "    </tr>\n",
       "    <tr>\n",
       "      <th>75%</th>\n",
       "      <td>1.04</td>\n",
       "      <td>62.50</td>\n",
       "      <td>59.00</td>\n",
       "      <td>5,324.25</td>\n",
       "      <td>6.54</td>\n",
       "      <td>6.54</td>\n",
       "      <td>4.04</td>\n",
       "    </tr>\n",
       "    <tr>\n",
       "      <th>max</th>\n",
       "      <td>5.01</td>\n",
       "      <td>79.00</td>\n",
       "      <td>95.00</td>\n",
       "      <td>18,823.00</td>\n",
       "      <td>10.74</td>\n",
       "      <td>58.90</td>\n",
       "      <td>31.80</td>\n",
       "    </tr>\n",
       "  </tbody>\n",
       "</table>\n",
       "</div>"
      ],
      "text/plain": [
       "               carat     depth     table     price         x         y  \\\n",
       "count      53,940.00 53,940.00 53,940.00 53,940.00 53,940.00 53,940.00   \n",
       "mean            0.80     61.75     57.46  3,932.80      5.73      5.73   \n",
       "std             0.47      1.43      2.23  3,989.44      1.12      1.14   \n",
       "min             0.20     43.00     43.00    326.00      0.00      0.00   \n",
       "25%             0.40     61.00     56.00    950.00      4.71      4.72   \n",
       "Median/50%      0.70     61.80     57.00  2,401.00      5.70      5.71   \n",
       "75%             1.04     62.50     59.00  5,324.25      6.54      6.54   \n",
       "max             5.01     79.00     95.00 18,823.00     10.74     58.90   \n",
       "\n",
       "                   z  \n",
       "count      53,940.00  \n",
       "mean            3.54  \n",
       "std             0.71  \n",
       "min             0.00  \n",
       "25%             2.91  \n",
       "Median/50%      3.53  \n",
       "75%             4.04  \n",
       "max            31.80  "
      ]
     },
     "execution_count": 44,
     "metadata": {},
     "output_type": "execute_result"
    }
   ],
   "source": [
    "data_frame_4 = data_frame_3.drop([\"id\"], axis = 1)\n",
    "for column in data_frame_4:\n",
    "    if data_frame_4[column].dtype == \"object\":\n",
    "        data_frame_4.drop([column], axis = 1, inplace = True)\n",
    "\n",
    "stats_of_data_frame_4 = data_frame_4.describe()\n",
    "stats_of_data_frame_4.rename(index = {\"50%\":\"Median/50%\"}, inplace = True)\n",
    "stats_of_data_frame_4"
   ]
  },
  {
   "cell_type": "code",
   "execution_count": 45,
   "id": "27a857e1",
   "metadata": {},
   "outputs": [
    {
     "data": {
      "text/html": [
       "<div>\n",
       "<style scoped>\n",
       "    .dataframe tbody tr th:only-of-type {\n",
       "        vertical-align: middle;\n",
       "    }\n",
       "\n",
       "    .dataframe tbody tr th {\n",
       "        vertical-align: top;\n",
       "    }\n",
       "\n",
       "    .dataframe thead th {\n",
       "        text-align: right;\n",
       "    }\n",
       "</style>\n",
       "<table border=\"1\" class=\"dataframe\">\n",
       "  <thead>\n",
       "    <tr style=\"text-align: right;\">\n",
       "      <th></th>\n",
       "      <th>carat</th>\n",
       "      <th>depth</th>\n",
       "      <th>table</th>\n",
       "      <th>price</th>\n",
       "      <th>x</th>\n",
       "      <th>y</th>\n",
       "      <th>z</th>\n",
       "    </tr>\n",
       "  </thead>\n",
       "  <tbody>\n",
       "    <tr>\n",
       "      <th>count</th>\n",
       "      <td>53,940.00</td>\n",
       "      <td>53,940.00</td>\n",
       "      <td>53,940.00</td>\n",
       "      <td>53,940.00</td>\n",
       "      <td>53,940.00</td>\n",
       "      <td>53,940.00</td>\n",
       "      <td>53,940.00</td>\n",
       "    </tr>\n",
       "    <tr>\n",
       "      <th>mean</th>\n",
       "      <td>0.80</td>\n",
       "      <td>61.75</td>\n",
       "      <td>57.46</td>\n",
       "      <td>3,932.80</td>\n",
       "      <td>5.73</td>\n",
       "      <td>5.73</td>\n",
       "      <td>3.54</td>\n",
       "    </tr>\n",
       "    <tr>\n",
       "      <th>std</th>\n",
       "      <td>0.47</td>\n",
       "      <td>1.43</td>\n",
       "      <td>2.23</td>\n",
       "      <td>3,989.44</td>\n",
       "      <td>1.12</td>\n",
       "      <td>1.14</td>\n",
       "      <td>0.71</td>\n",
       "    </tr>\n",
       "    <tr>\n",
       "      <th>min</th>\n",
       "      <td>0.20</td>\n",
       "      <td>43.00</td>\n",
       "      <td>43.00</td>\n",
       "      <td>326.00</td>\n",
       "      <td>0.00</td>\n",
       "      <td>0.00</td>\n",
       "      <td>0.00</td>\n",
       "    </tr>\n",
       "    <tr>\n",
       "      <th>25%</th>\n",
       "      <td>0.40</td>\n",
       "      <td>61.00</td>\n",
       "      <td>56.00</td>\n",
       "      <td>950.00</td>\n",
       "      <td>4.71</td>\n",
       "      <td>4.72</td>\n",
       "      <td>2.91</td>\n",
       "    </tr>\n",
       "    <tr>\n",
       "      <th>Median/50%</th>\n",
       "      <td>0.70</td>\n",
       "      <td>61.80</td>\n",
       "      <td>57.00</td>\n",
       "      <td>2,401.00</td>\n",
       "      <td>5.70</td>\n",
       "      <td>5.71</td>\n",
       "      <td>3.53</td>\n",
       "    </tr>\n",
       "    <tr>\n",
       "      <th>75%</th>\n",
       "      <td>1.04</td>\n",
       "      <td>62.50</td>\n",
       "      <td>59.00</td>\n",
       "      <td>5,324.25</td>\n",
       "      <td>6.54</td>\n",
       "      <td>6.54</td>\n",
       "      <td>4.04</td>\n",
       "    </tr>\n",
       "    <tr>\n",
       "      <th>max</th>\n",
       "      <td>5.01</td>\n",
       "      <td>79.00</td>\n",
       "      <td>95.00</td>\n",
       "      <td>18,823.00</td>\n",
       "      <td>10.74</td>\n",
       "      <td>58.90</td>\n",
       "      <td>31.80</td>\n",
       "    </tr>\n",
       "    <tr>\n",
       "      <th>var</th>\n",
       "      <td>0       0.23\n",
       "1       0.21\n",
       "2       0.23\n",
       "3      ...</td>\n",
       "      <td>0       61.50\n",
       "1       59.80\n",
       "2       56.90\n",
       "3   ...</td>\n",
       "      <td>0       55.00\n",
       "1       61.00\n",
       "2       65.00\n",
       "3   ...</td>\n",
       "      <td>0         326\n",
       "1         326\n",
       "2         327\n",
       "3   ...</td>\n",
       "      <td>0       3.95\n",
       "1       3.89\n",
       "2       4.05\n",
       "3      ...</td>\n",
       "      <td>0       3.98\n",
       "1       3.84\n",
       "2       4.07\n",
       "3      ...</td>\n",
       "      <td>0       2.43\n",
       "1       2.31\n",
       "2       2.31\n",
       "3      ...</td>\n",
       "    </tr>\n",
       "  </tbody>\n",
       "</table>\n",
       "</div>"
      ],
      "text/plain": [
       "                                                        carat  \\\n",
       "count                                               53,940.00   \n",
       "mean                                                     0.80   \n",
       "std                                                      0.47   \n",
       "min                                                      0.20   \n",
       "25%                                                      0.40   \n",
       "Median/50%                                               0.70   \n",
       "75%                                                      1.04   \n",
       "max                                                      5.01   \n",
       "var         0       0.23\n",
       "1       0.21\n",
       "2       0.23\n",
       "3      ...   \n",
       "\n",
       "                                                        depth  \\\n",
       "count                                               53,940.00   \n",
       "mean                                                    61.75   \n",
       "std                                                      1.43   \n",
       "min                                                     43.00   \n",
       "25%                                                     61.00   \n",
       "Median/50%                                              61.80   \n",
       "75%                                                     62.50   \n",
       "max                                                     79.00   \n",
       "var         0       61.50\n",
       "1       59.80\n",
       "2       56.90\n",
       "3   ...   \n",
       "\n",
       "                                                        table  \\\n",
       "count                                               53,940.00   \n",
       "mean                                                    57.46   \n",
       "std                                                      2.23   \n",
       "min                                                     43.00   \n",
       "25%                                                     56.00   \n",
       "Median/50%                                              57.00   \n",
       "75%                                                     59.00   \n",
       "max                                                     95.00   \n",
       "var         0       55.00\n",
       "1       61.00\n",
       "2       65.00\n",
       "3   ...   \n",
       "\n",
       "                                                        price  \\\n",
       "count                                               53,940.00   \n",
       "mean                                                 3,932.80   \n",
       "std                                                  3,989.44   \n",
       "min                                                    326.00   \n",
       "25%                                                    950.00   \n",
       "Median/50%                                           2,401.00   \n",
       "75%                                                  5,324.25   \n",
       "max                                                 18,823.00   \n",
       "var         0         326\n",
       "1         326\n",
       "2         327\n",
       "3   ...   \n",
       "\n",
       "                                                            x  \\\n",
       "count                                               53,940.00   \n",
       "mean                                                     5.73   \n",
       "std                                                      1.12   \n",
       "min                                                      0.00   \n",
       "25%                                                      4.71   \n",
       "Median/50%                                               5.70   \n",
       "75%                                                      6.54   \n",
       "max                                                     10.74   \n",
       "var         0       3.95\n",
       "1       3.89\n",
       "2       4.05\n",
       "3      ...   \n",
       "\n",
       "                                                            y  \\\n",
       "count                                               53,940.00   \n",
       "mean                                                     5.73   \n",
       "std                                                      1.14   \n",
       "min                                                      0.00   \n",
       "25%                                                      4.72   \n",
       "Median/50%                                               5.71   \n",
       "75%                                                      6.54   \n",
       "max                                                     58.90   \n",
       "var         0       3.98\n",
       "1       3.84\n",
       "2       4.07\n",
       "3      ...   \n",
       "\n",
       "                                                            z  \n",
       "count                                               53,940.00  \n",
       "mean                                                     3.54  \n",
       "std                                                      0.71  \n",
       "min                                                      0.00  \n",
       "25%                                                      2.91  \n",
       "Median/50%                                               3.53  \n",
       "75%                                                      4.04  \n",
       "max                                                     31.80  \n",
       "var         0       2.43\n",
       "1       2.31\n",
       "2       2.31\n",
       "3      ...  "
      ]
     },
     "execution_count": 45,
     "metadata": {},
     "output_type": "execute_result"
    }
   ],
   "source": [
    "var = data_frame_4.var()\n",
    "\n",
    "var_list = []\n",
    "for col in data_frame_4.columns:\n",
    "    if data_frame_4[col].dtype == \"object\":\n",
    "        continue\n",
    "    var_list.append(round(data_frame_4[col], 5))\n",
    "\n",
    "\n",
    "data_frame_5 = pd.DataFrame([var_list], columns = stats_of_data_frame_4.columns, index = [\"var\"])\n",
    "stats_of_data_frame_5 = stats_of_data_frame_4.append(data_frame_5)\n",
    "stats_of_data_frame_5"
   ]
  },
  {
   "cell_type": "code",
   "execution_count": null,
   "id": "2db487e5",
   "metadata": {},
   "outputs": [],
   "source": []
  }
 ],
 "metadata": {
  "kernelspec": {
   "display_name": "Python 3 (ipykernel)",
   "language": "python",
   "name": "python3"
  },
  "language_info": {
   "codemirror_mode": {
    "name": "ipython",
    "version": 3
   },
   "file_extension": ".py",
   "mimetype": "text/x-python",
   "name": "python",
   "nbconvert_exporter": "python",
   "pygments_lexer": "ipython3",
   "version": "3.9.7"
  }
 },
 "nbformat": 4,
 "nbformat_minor": 5
}
